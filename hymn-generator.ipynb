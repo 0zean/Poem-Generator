{
 "cells": [
  {
   "cell_type": "code",
   "execution_count": 1,
   "id": "549cdfe1",
   "metadata": {
    "execution": {
     "iopub.execute_input": "2022-11-08T23:55:42.308837Z",
     "iopub.status.busy": "2022-11-08T23:55:42.308406Z",
     "iopub.status.idle": "2022-11-08T23:55:46.491102Z",
     "shell.execute_reply": "2022-11-08T23:55:46.489959Z"
    },
    "papermill": {
     "duration": 4.191719,
     "end_time": "2022-11-08T23:55:46.493785",
     "exception": false,
     "start_time": "2022-11-08T23:55:42.302066",
     "status": "completed"
    },
    "tags": []
   },
   "outputs": [],
   "source": [
    "import pandas as pd\n",
    "import numpy as np\n",
    "\n",
    "from fastai.text.all import *\n",
    "from transformers import GPT2LMHeadModel, GPT2TokenizerFast"
   ]
  },
  {
   "cell_type": "code",
   "execution_count": 2,
   "id": "e7e5bf08",
   "metadata": {
    "execution": {
     "iopub.execute_input": "2022-11-08T23:55:46.503802Z",
     "iopub.status.busy": "2022-11-08T23:55:46.502937Z",
     "iopub.status.idle": "2022-11-08T23:56:11.024518Z",
     "shell.execute_reply": "2022-11-08T23:56:11.023194Z"
    },
    "papermill": {
     "duration": 24.528785,
     "end_time": "2022-11-08T23:56:11.026744",
     "exception": false,
     "start_time": "2022-11-08T23:55:46.497959",
     "status": "completed"
    },
    "tags": []
   },
   "outputs": [
    {
     "data": {
      "application/vnd.jupyter.widget-view+json": {
       "model_id": "6cfb5359b2a049b8b530c4643a3dc2e2",
       "version_major": 2,
       "version_minor": 0
      },
      "text/plain": [
       "Downloading:   0%|          | 0.00/0.99M [00:00<?, ?B/s]"
      ]
     },
     "metadata": {},
     "output_type": "display_data"
    },
    {
     "data": {
      "application/vnd.jupyter.widget-view+json": {
       "model_id": "8f66dd3509d6436aa6699dc55a2b5930",
       "version_major": 2,
       "version_minor": 0
      },
      "text/plain": [
       "Downloading:   0%|          | 0.00/446k [00:00<?, ?B/s]"
      ]
     },
     "metadata": {},
     "output_type": "display_data"
    },
    {
     "data": {
      "application/vnd.jupyter.widget-view+json": {
       "model_id": "1a5e9c32a15f4ab0a5e945ef4310059e",
       "version_major": 2,
       "version_minor": 0
      },
      "text/plain": [
       "Downloading:   0%|          | 0.00/1.29M [00:00<?, ?B/s]"
      ]
     },
     "metadata": {},
     "output_type": "display_data"
    },
    {
     "data": {
      "application/vnd.jupyter.widget-view+json": {
       "model_id": "17175458b67a4186a50ef1561c7abba7",
       "version_major": 2,
       "version_minor": 0
      },
      "text/plain": [
       "Downloading:   0%|          | 0.00/665 [00:00<?, ?B/s]"
      ]
     },
     "metadata": {},
     "output_type": "display_data"
    },
    {
     "data": {
      "application/vnd.jupyter.widget-view+json": {
       "model_id": "10a4af351fd946af9395916236e7f0e2",
       "version_major": 2,
       "version_minor": 0
      },
      "text/plain": [
       "Downloading:   0%|          | 0.00/523M [00:00<?, ?B/s]"
      ]
     },
     "metadata": {},
     "output_type": "display_data"
    },
    {
     "name": "stdout",
     "output_type": "stream",
     "text": [
      "20657 poems found\n"
     ]
    }
   ],
   "source": [
    "tokenizer = GPT2TokenizerFast.from_pretrained('gpt2')\n",
    "model = GPT2LMHeadModel.from_pretrained('gpt2')\n",
    "\n",
    "path = '../input/poemsdataset'\n",
    "\n",
    "poems = get_text_files(path, folders=['forms', 'topics'])\n",
    "print(len(poems), \"poems found\")"
   ]
  },
  {
   "cell_type": "code",
   "execution_count": 3,
   "id": "c96183ef",
   "metadata": {
    "execution": {
     "iopub.execute_input": "2022-11-08T23:56:11.038918Z",
     "iopub.status.busy": "2022-11-08T23:56:11.037371Z",
     "iopub.status.idle": "2022-11-08T23:56:11.324430Z",
     "shell.execute_reply": "2022-11-08T23:56:11.323512Z"
    },
    "papermill": {
     "duration": 0.295398,
     "end_time": "2022-11-08T23:56:11.327064",
     "exception": false,
     "start_time": "2022-11-08T23:56:11.031666",
     "status": "completed"
    },
    "tags": []
   },
   "outputs": [
    {
     "name": "stdout",
     "output_type": "stream",
     "text": [
      "100 hymns found\n"
     ]
    }
   ],
   "source": [
    "hymns = get_text_files(path+'/forms', folders = ['hymn'])\n",
    "print(len(hymns),\"hymns found\")\n",
    "\n",
    "hymns = L(o.open().read() for o in hymns)"
   ]
  },
  {
   "cell_type": "code",
   "execution_count": 4,
   "id": "5e491a19",
   "metadata": {
    "execution": {
     "iopub.execute_input": "2022-11-08T23:56:11.338105Z",
     "iopub.status.busy": "2022-11-08T23:56:11.337810Z",
     "iopub.status.idle": "2022-11-08T23:56:11.342874Z",
     "shell.execute_reply": "2022-11-08T23:56:11.341912Z"
    },
    "papermill": {
     "duration": 0.012761,
     "end_time": "2022-11-08T23:56:11.345034",
     "exception": false,
     "start_time": "2022-11-08T23:56:11.332273",
     "status": "completed"
    },
    "tags": []
   },
   "outputs": [],
   "source": [
    "def flatten(A):\n",
    "    rt = []\n",
    "    for i in A:\n",
    "        if isinstance(i, list):\n",
    "            rt.extend(flatten(i))\n",
    "        else:\n",
    "            rt.append(i)\n",
    "    return rt"
   ]
  },
  {
   "cell_type": "code",
   "execution_count": 5,
   "id": "4ce6f022",
   "metadata": {
    "execution": {
     "iopub.execute_input": "2022-11-08T23:56:11.355135Z",
     "iopub.status.busy": "2022-11-08T23:56:11.354812Z",
     "iopub.status.idle": "2022-11-08T23:56:11.359255Z",
     "shell.execute_reply": "2022-11-08T23:56:11.358248Z"
    },
    "papermill": {
     "duration": 0.012124,
     "end_time": "2022-11-08T23:56:11.361541",
     "exception": false,
     "start_time": "2022-11-08T23:56:11.349417",
     "status": "completed"
    },
    "tags": []
   },
   "outputs": [],
   "source": [
    "all_hymns = flatten(hymns)"
   ]
  },
  {
   "cell_type": "code",
   "execution_count": 6,
   "id": "da7daeca",
   "metadata": {
    "execution": {
     "iopub.execute_input": "2022-11-08T23:56:11.371316Z",
     "iopub.status.busy": "2022-11-08T23:56:11.371063Z",
     "iopub.status.idle": "2022-11-08T23:56:11.376607Z",
     "shell.execute_reply": "2022-11-08T23:56:11.375715Z"
    },
    "papermill": {
     "duration": 0.012675,
     "end_time": "2022-11-08T23:56:11.378563",
     "exception": false,
     "start_time": "2022-11-08T23:56:11.365888",
     "status": "completed"
    },
    "tags": []
   },
   "outputs": [],
   "source": [
    "class TransformersTokenizer(Transform):\n",
    "    def __init__(self, token):\n",
    "        self.tokenizer = tokenizer\n",
    "\n",
    "    def encodes(self, x):\n",
    "        toks = self.tokenizer.tokenize(x)\n",
    "        return tensor(self.tokenizer.convert_tokens_to_ids(toks))\n",
    "\n",
    "    def decodes(self, x):\n",
    "        return TitledStr(self.tokenizer.decode(x.cpu().numpy()))"
   ]
  },
  {
   "cell_type": "code",
   "execution_count": 7,
   "id": "99d49d47",
   "metadata": {
    "execution": {
     "iopub.execute_input": "2022-11-08T23:56:11.388280Z",
     "iopub.status.busy": "2022-11-08T23:56:11.388025Z",
     "iopub.status.idle": "2022-11-08T23:56:16.074055Z",
     "shell.execute_reply": "2022-11-08T23:56:16.073027Z"
    },
    "papermill": {
     "duration": 4.694727,
     "end_time": "2022-11-08T23:56:16.077686",
     "exception": false,
     "start_time": "2022-11-08T23:56:11.382959",
     "status": "completed"
    },
    "tags": []
   },
   "outputs": [
    {
     "name": "stderr",
     "output_type": "stream",
     "text": [
      "Token indices sequence length is longer than the specified maximum sequence length for this model (1986 > 1024). Running this sequence through the model will result in indexing errors\n"
     ]
    },
    {
     "name": "stdout",
     "output_type": "stream",
     "text": [
      "Vicisti, Galilæe\n",
      "I have lived long enough, having seen one thing, that love hath an end;\n",
      "Goddess and maiden and queen, be near me now and befriend.\n",
      "Thou art more than the day or the morrow, the seasons that laugh or that weep;\n",
      "For these give joy and sorrow; but thou, Proserpina, sleep.\n",
      "Sweet is the treading of wine, and sweet the feet of the dove;\n",
      "But a goodlier gift is thine than foam of the grapes or love.\n",
      "Yea, is not even Apollo, with hair and harpstring of gold,\n",
      "A bitter God to follow, a beautiful God to behold?\n",
      "I am sick of singing; the bays burn deep and chafe: I am fain\n",
      "To rest a little from praise and grievous pleasure and pain.\n",
      "For the Gods we know not of, who give us our daily breath,\n",
      "We know they are cruel as love or life, and lovely as death.\n",
      "O Gods dethroned and deceased, cast forth, wiped out in a day!\n",
      "From your wrath is the world released, redeemed from your chains, men say.\n",
      "New Gods are crowned in the city; their flowers have broken your rods;\n",
      "They are merciful, clothed with pity, the young compassionate Gods.\n",
      "But for me their new device is barren, the days are bare;\n",
      "Things long past over suffice, and men forgotten that were.\n",
      "Time and the Gods are at strife; ye dwell in the midst thereof,\n",
      "Draining a little life from the barren breasts of love.\n",
      "I say to you, cease, take rest; yea, I say to you all, be at peace,\n",
      "Till the bitter milk of her breast and the barren bosom shall cease.\n",
      "Wilt thou take all, Galilean? but these thou shalt not take,\n",
      "The laurel, the palms and the paean, the breasts of the nymphs in the brake;\n",
      "Breasts more soft than a dove's, that tremble with tenderer breath;\n",
      "And all the wings of the Loves, and all the joy before death;\n",
      "All the feet of the hours that sound as a single lyre,\n",
      "Dropped and deep in the flowers, with strings that flicker like fire.\n",
      "More than these wilt thou give, things fairer than all these things?\n",
      "Nay, for a little we live, and life hath mutable wings.\n",
      "A little while and we die; shall life not thrive as it may?\n",
      "For no man under the sky lives twice, outliving his day.\n",
      "And grief is a grievous thing, and a man hath enough of his tears:\n",
      "Why should he labour, and bring fresh grief to blacken his years?\n",
      "Thou hast conquered, O pale Galilean; the world has grown grey from thy breath;\n",
      "We have drunken of things Lethean, and fed on the fullness of death.\n",
      "Laurel is green for a season, and love is sweet for a day;\n",
      "But love grows bitter with treason, and laurel outlives not May.\n",
      "Sleep, shall we sleep after all? for the world is not sweet in the end;\n",
      "For the old faiths loosen and fall, the new years ruin and rend.\n",
      "Fate is a sea without shore, and the soul is a rock that abides;\n",
      "But her ears are vexed with the roar and her face with the foam of the tides.\n",
      "O lips that the live blood faints in, the leavings of racks and rods!\n",
      "O ghastly glories of saints, dead limbs of gibbeted Gods!\n",
      "Though all men abase them before you in spirit, and all knees bend,\n",
      "I kneel not neither adore you, but standing, look to the end.\n",
      "All delicate days and pleasant, all spirits and sorrows are cast\n",
      "Far out with the foam of the present that sweeps to the surf of the past:\n",
      "Where beyond the extreme sea-wall, and between the remote sea-gates,\n",
      "Waste water washes, and tall ships founder, and deep death waits:\n",
      "Where, mighty with deepening sides, clad about with the seas as with wings,\n",
      "And impelled of invisible tides, and fulfilled of unspeakable things,\n",
      "White-eyed and poisonous-finned, shark-toothed and serpentine-curled,\n",
      "Rolls, under the whitening wind of the future, the wave of the world.\n",
      "The depths stand naked in sunder behind it, the storms flee away;\n",
      "In the hollow before it the thunder is taken and snared as a prey;\n",
      "In its sides is the north-wind bound; and its salt is of all men's tears;\n",
      "With light of ruin, and sound of changes, and pulse of years:\n",
      "With travail of day after day, and with trouble of hour upon hour;\n",
      "And bitter as blood is the spray; and the crests are as fangs that devour:\n",
      "And its vapour and storm of its steam as the sighing of spirits to be;\n",
      "And its noise as the noise in a dream; and its depth as the roots of the sea:\n",
      "And the height of its heads as the height of the utmost stars of the air:\n",
      "And the ends of the earth at the might thereof tremble, and time is made bare.\n",
      "Will ye bridle the deep sea with reins, will ye chasten the high sea with rods?\n",
      "Will ye take her to chain her with chains, who is older than all ye Gods?\n",
      "All ye as a wind shall go by, as a fire shall ye pass and be past;\n",
      "Ye are Gods, and behold, ye shall die, and the waves be upon you at last.\n",
      "In the darkness of time, in the deeps of the years, in the changes of things,\n",
      "Ye shall sleep as a slain man sleeps, and the world shall forget you for kings.\n",
      "Though the feet of thine high priests tread where thy lords and our forefathers trod,\n",
      "Though these that were Gods are dead, and thou being dead art a God,\n",
      "Though before thee the throned Cytherean be fallen, and hidden her head,\n",
      "Yet thy kingdom shall pass, Galilean, thy dead shall go down to thee dead.\n",
      "Of the maiden thy mother men sing as a goddess with grace clad around;\n",
      "Thou art throned where another was king; where another was queen she is crowned.\n",
      "Yea, once we had sight of another: but now she is queen, say these.\n",
      "Not as thine, not as thine was our mother, a blossom of flowering seas,\n",
      "Clothed round with the world's desire as with raiment, and fair as the foam,\n",
      "And fleeter than kindled fire, and a goddess, and mother of Rome.\n",
      "For thine came pale and a maiden, and sister to sorrow; but ours,\n",
      "Her deep hair heavily laden with odour and colour of flowers,\n",
      "White rose of the rose-white water, a silver splendour, a flame,\n",
      "Bent down unto us that besought her, and earth grew sweet with her name.\n",
      "For thine came weeping, a slave among slaves, and rejected; but she\n",
      "Came flushed from the full-flushed wave, and imperial, her foot on the sea.\n",
      "And the wonderful waters knew her, the winds and the viewless ways,\n",
      "And the roses grew rosier, and bluer the sea-blue stream of the bays.\n",
      "Ye are fallen, our lords, by what token? we wise that ye should not fall.\n",
      "Ye were all so fair that are broken; and one more fair than ye all.\n",
      "But I turn to her still, having seen she shall surely abide in the end;\n",
      "Goddess and maiden and queen, be near me now and befriend.\n",
      "O daughter of earth, of my mother, her crown and blossom of birth,\n",
      "I am also, I also, thy brother; I go as I came unto earth.\n",
      "In the night where thine eyes are as moons are in heaven, the night where thou art,\n",
      "Where the silence is more than all tunes, where sleep overflows from the heart,\n",
      "Where the poppies are sweet as the rose in our world, and the red rose is white,\n",
      "And the wind falls faint as it blows with the fume of the flowers of the night,\n",
      "And the murmur of spirits that sleep in the shadow of Gods from afar\n",
      "Grows dim in thine ears and deep as the deep dim soul of a star,\n",
      "In the sweet low light of thy face, under heavens untrod by the sun,\n",
      "Let my soul with their souls find place, and forget what is done and undone.\n",
      "Thou art more than the Gods who number the days of our temporal breath;\n",
      "Let these give labour and slumber; but thou, Proserpina, death.\n",
      "Therefore now at thy feet I abide for a season in silence. I know\n",
      "I shall die as my fathers died, and sleep as they sleep, even so.\n",
      "For the glass of the years is brittle wherein we gaze for a span;\n",
      "A little soul for a little bears up this corpse which is man.\n",
      "So long I endure, no longer; and laugh not again, neither weep.\n",
      "For there is no God found stronger than death; and death is a sleep.\n"
     ]
    }
   ],
   "source": [
    "split = [range_of(70), range(100)]\n",
    "tls = TfmdLists(all_hymns, TransformersTokenizer(tokenizer),\n",
    "                splits=split, dl_type=LMDataLoader)\n",
    "\n",
    "\n",
    "show_at(tls.train, 0)"
   ]
  },
  {
   "cell_type": "code",
   "execution_count": 8,
   "id": "ea983579",
   "metadata": {
    "execution": {
     "iopub.execute_input": "2022-11-08T23:56:16.090648Z",
     "iopub.status.busy": "2022-11-08T23:56:16.089356Z",
     "iopub.status.idle": "2022-11-08T23:56:21.433923Z",
     "shell.execute_reply": "2022-11-08T23:56:21.432871Z"
    },
    "papermill": {
     "duration": 5.353573,
     "end_time": "2022-11-08T23:56:21.436437",
     "exception": false,
     "start_time": "2022-11-08T23:56:16.082864",
     "status": "completed"
    },
    "tags": []
   },
   "outputs": [
    {
     "data": {
      "text/html": [
       "<table border=\"1\" class=\"dataframe\">\n",
       "  <thead>\n",
       "    <tr style=\"text-align: right;\">\n",
       "      <th></th>\n",
       "      <th>text</th>\n",
       "      <th>text_</th>\n",
       "    </tr>\n",
       "  </thead>\n",
       "  <tbody>\n",
       "    <tr>\n",
       "      <th>0</th>\n",
       "      <td>The groves were God's first temples. Ere man learned\\nTo hew the shaft, and lay the architrave,\\nAnd spread the roof above them,---ere he framed\\nThe lofty vault, to gather and roll back\\nThe sound of anthems; in the darkling wood,\\nAmidst the cool and silence, he knelt down,\\nAnd offered to the Mightiest solemn thanks\\nAnd supplication. For his simple heart\\nMight not resist the sacred influences,\\nWhich, from the stilly twilight of the place,\\nAnd from the gray old trunks that high in heaven\\nMingled their mossy boughs, and from the sound\\nOf the invisible breath that swayed at once\\nAll their green tops, stole over him, and bowed\\nHis spirit with the thought of boundless power\\nAnd inaccessible majesty. Ah, why\\nShould we, in the world's riper years, neglect\\nGod's ancient sanctuaries, and adore\\nOnly among the crowd, and under roofs,\\nThat our frail hands have raised? Let me, at least,\\nHere, in the shadow of this aged wood,\\nOffer one hymn---thrice happy, if it find\\nAcceptance</td>\n",
       "      <td>groves were God's first temples. Ere man learned\\nTo hew the shaft, and lay the architrave,\\nAnd spread the roof above them,---ere he framed\\nThe lofty vault, to gather and roll back\\nThe sound of anthems; in the darkling wood,\\nAmidst the cool and silence, he knelt down,\\nAnd offered to the Mightiest solemn thanks\\nAnd supplication. For his simple heart\\nMight not resist the sacred influences,\\nWhich, from the stilly twilight of the place,\\nAnd from the gray old trunks that high in heaven\\nMingled their mossy boughs, and from the sound\\nOf the invisible breath that swayed at once\\nAll their green tops, stole over him, and bowed\\nHis spirit with the thought of boundless power\\nAnd inaccessible majesty. Ah, why\\nShould we, in the world's riper years, neglect\\nGod's ancient sanctuaries, and adore\\nOnly among the crowd, and under roofs,\\nThat our frail hands have raised? Let me, at least,\\nHere, in the shadow of this aged wood,\\nOffer one hymn---thrice happy, if it find\\nAcceptance in</td>\n",
       "    </tr>\n",
       "    <tr>\n",
       "      <th>1</th>\n",
       "      <td>loud waves are dumb\\nListening to my sweet pipings.\\nThe wind in the reeds and the rushes,\\nThe bees on the bells of thyme,\\nThe birds on the myrtle-bushes,\\nThe cicale above in the lime,\\nAnd the lizards below in the grass,\\nWere as silent as ever old Tmolus was,\\nListening to my sweet pipings.\\nLiquid Peneus was flowing,\\nAnd all dark Temple lay\\nIn Pelion's shadow, outgrowing\\nThe light of the dying day,\\nSpeeded by my sweet pipings.\\nThe Sileni and Sylvans and fauns,\\nAnd the Nymphs of the woods and wave\\nTo the edge of the moist river-lawns,\\nAnd the brink of the dewy caves,\\nAnd all that did then attend and follow,\\nWere silent with love,--as you now, Apollo,\\nWith envy of my sweet pipings.\\nI sang of the dancing stars,\\nI sang of the dedal earth,\\nAnd of heaven, and the Giant wars,\\nAnd love, and death, and birth.\\nAnd then I changed my pipings,--\\nSinging how</td>\n",
       "      <td>waves are dumb\\nListening to my sweet pipings.\\nThe wind in the reeds and the rushes,\\nThe bees on the bells of thyme,\\nThe birds on the myrtle-bushes,\\nThe cicale above in the lime,\\nAnd the lizards below in the grass,\\nWere as silent as ever old Tmolus was,\\nListening to my sweet pipings.\\nLiquid Peneus was flowing,\\nAnd all dark Temple lay\\nIn Pelion's shadow, outgrowing\\nThe light of the dying day,\\nSpeeded by my sweet pipings.\\nThe Sileni and Sylvans and fauns,\\nAnd the Nymphs of the woods and wave\\nTo the edge of the moist river-lawns,\\nAnd the brink of the dewy caves,\\nAnd all that did then attend and follow,\\nWere silent with love,--as you now, Apollo,\\nWith envy of my sweet pipings.\\nI sang of the dancing stars,\\nI sang of the dedal earth,\\nAnd of heaven, and the Giant wars,\\nAnd love, and death, and birth.\\nAnd then I changed my pipings,--\\nSinging how down</td>\n",
       "    </tr>\n",
       "  </tbody>\n",
       "</table>"
      ],
      "text/plain": [
       "<IPython.core.display.HTML object>"
      ]
     },
     "metadata": {},
     "output_type": "display_data"
    }
   ],
   "source": [
    "bs, sl = 4, 256\n",
    "dls = tls.dataloaders(bs=bs, seq_len=sl)\n",
    "\n",
    "dls.show_batch(max_n=2)"
   ]
  },
  {
   "cell_type": "code",
   "execution_count": 9,
   "id": "89d94344",
   "metadata": {
    "execution": {
     "iopub.execute_input": "2022-11-08T23:56:21.449695Z",
     "iopub.status.busy": "2022-11-08T23:56:21.448798Z",
     "iopub.status.idle": "2022-11-08T23:56:21.453848Z",
     "shell.execute_reply": "2022-11-08T23:56:21.453043Z"
    },
    "papermill": {
     "duration": 0.013476,
     "end_time": "2022-11-08T23:56:21.455957",
     "exception": false,
     "start_time": "2022-11-08T23:56:21.442481",
     "status": "completed"
    },
    "tags": []
   },
   "outputs": [],
   "source": [
    "class DropOutput(Callback):\n",
    "    def after_pred(self):\n",
    "        self.learn.pred = self.pred[0]"
   ]
  },
  {
   "cell_type": "code",
   "execution_count": 10,
   "id": "9f0e6102",
   "metadata": {
    "execution": {
     "iopub.execute_input": "2022-11-08T23:56:21.467313Z",
     "iopub.status.busy": "2022-11-08T23:56:21.467040Z",
     "iopub.status.idle": "2022-11-08T23:56:21.475118Z",
     "shell.execute_reply": "2022-11-08T23:56:21.474301Z"
    },
    "papermill": {
     "duration": 0.016251,
     "end_time": "2022-11-08T23:56:21.477124",
     "exception": false,
     "start_time": "2022-11-08T23:56:21.460873",
     "status": "completed"
    },
    "tags": []
   },
   "outputs": [],
   "source": [
    "learn = Learner(dls, model, loss_func=CrossEntropyLossFlat(), \n",
    "                cbs=[DropOutput], metrics=Perplexity()).to_fp16()"
   ]
  },
  {
   "cell_type": "code",
   "execution_count": 11,
   "id": "458c9367",
   "metadata": {
    "execution": {
     "iopub.execute_input": "2022-11-08T23:56:21.488977Z",
     "iopub.status.busy": "2022-11-08T23:56:21.488705Z",
     "iopub.status.idle": "2022-11-08T23:56:33.426731Z",
     "shell.execute_reply": "2022-11-08T23:56:33.425741Z"
    },
    "papermill": {
     "duration": 11.947129,
     "end_time": "2022-11-08T23:56:33.429139",
     "exception": false,
     "start_time": "2022-11-08T23:56:21.482010",
     "status": "completed"
    },
    "tags": []
   },
   "outputs": [
    {
     "data": {
      "text/html": [
       "\n",
       "<style>\n",
       "    /* Turns off some styling */\n",
       "    progress {\n",
       "        /* gets rid of default border in Firefox and Opera. */\n",
       "        border: none;\n",
       "        /* Needs to be in here for Safari polyfill so background images work as expected. */\n",
       "        background-size: auto;\n",
       "    }\n",
       "    progress:not([value]), progress:not([value])::-webkit-progress-bar {\n",
       "        background: repeating-linear-gradient(45deg, #7e7e7e, #7e7e7e 10px, #5c5c5c 10px, #5c5c5c 20px);\n",
       "    }\n",
       "    .progress-bar-interrupted, .progress-bar-interrupted::-webkit-progress-bar {\n",
       "        background: #F44336;\n",
       "    }\n",
       "</style>\n"
      ],
      "text/plain": [
       "<IPython.core.display.HTML object>"
      ]
     },
     "metadata": {},
     "output_type": "display_data"
    },
    {
     "data": {
      "text/html": [],
      "text/plain": [
       "<IPython.core.display.HTML object>"
      ]
     },
     "metadata": {},
     "output_type": "display_data"
    },
    {
     "data": {
      "text/plain": [
       "(#2) [4.4478888511657715,85.44636535644531]"
      ]
     },
     "execution_count": 11,
     "metadata": {},
     "output_type": "execute_result"
    }
   ],
   "source": [
    "learn.validate()"
   ]
  },
  {
   "cell_type": "code",
   "execution_count": 12,
   "id": "ace8b81d",
   "metadata": {
    "execution": {
     "iopub.execute_input": "2022-11-08T23:56:33.440985Z",
     "iopub.status.busy": "2022-11-08T23:56:33.440684Z",
     "iopub.status.idle": "2022-11-08T23:57:04.922596Z",
     "shell.execute_reply": "2022-11-08T23:57:04.921519Z"
    },
    "papermill": {
     "duration": 31.49037,
     "end_time": "2022-11-08T23:57:04.924921",
     "exception": false,
     "start_time": "2022-11-08T23:56:33.434551",
     "status": "completed"
    },
    "tags": []
   },
   "outputs": [
    {
     "data": {
      "text/html": [
       "\n",
       "<style>\n",
       "    /* Turns off some styling */\n",
       "    progress {\n",
       "        /* gets rid of default border in Firefox and Opera. */\n",
       "        border: none;\n",
       "        /* Needs to be in here for Safari polyfill so background images work as expected. */\n",
       "        background-size: auto;\n",
       "    }\n",
       "    progress:not([value]), progress:not([value])::-webkit-progress-bar {\n",
       "        background: repeating-linear-gradient(45deg, #7e7e7e, #7e7e7e 10px, #5c5c5c 10px, #5c5c5c 20px);\n",
       "    }\n",
       "    .progress-bar-interrupted, .progress-bar-interrupted::-webkit-progress-bar {\n",
       "        background: #F44336;\n",
       "    }\n",
       "</style>\n"
      ],
      "text/plain": [
       "<IPython.core.display.HTML object>"
      ]
     },
     "metadata": {},
     "output_type": "display_data"
    },
    {
     "data": {
      "text/html": [],
      "text/plain": [
       "<IPython.core.display.HTML object>"
      ]
     },
     "metadata": {},
     "output_type": "display_data"
    },
    {
     "data": {
      "text/plain": [
       "SuggestedLRs(valley=0.0002754228771664202)"
      ]
     },
     "execution_count": 12,
     "metadata": {},
     "output_type": "execute_result"
    },
    {
     "data": {
      "image/png": "[encoded data removed]",
      "text/plain": [
       "<Figure size 432x288 with 1 Axes>"
      ]
     },
     "metadata": {
      "needs_background": "light"
     },
     "output_type": "display_data"
    }
   ],
   "source": [
    "learn.lr_find()"
   ]
  },
  {
   "cell_type": "code",
   "execution_count": 13,
   "id": "da512702",
   "metadata": {
    "execution": {
     "iopub.execute_input": "2022-11-08T23:57:04.938545Z",
     "iopub.status.busy": "2022-11-08T23:57:04.937718Z",
     "iopub.status.idle": "2022-11-08T23:57:28.160860Z",
     "shell.execute_reply": "2022-11-08T23:57:28.159906Z"
    },
    "papermill": {
     "duration": 23.231912,
     "end_time": "2022-11-08T23:57:28.162995",
     "exception": false,
     "start_time": "2022-11-08T23:57:04.931083",
     "status": "completed"
    },
    "tags": []
   },
   "outputs": [
    {
     "data": {
      "text/html": [
       "\n",
       "<style>\n",
       "    /* Turns off some styling */\n",
       "    progress {\n",
       "        /* gets rid of default border in Firefox and Opera. */\n",
       "        border: none;\n",
       "        /* Needs to be in here for Safari polyfill so background images work as expected. */\n",
       "        background-size: auto;\n",
       "    }\n",
       "    progress:not([value]), progress:not([value])::-webkit-progress-bar {\n",
       "        background: repeating-linear-gradient(45deg, #7e7e7e, #7e7e7e 10px, #5c5c5c 10px, #5c5c5c 20px);\n",
       "    }\n",
       "    .progress-bar-interrupted, .progress-bar-interrupted::-webkit-progress-bar {\n",
       "        background: #F44336;\n",
       "    }\n",
       "</style>\n"
      ],
      "text/plain": [
       "<IPython.core.display.HTML object>"
      ]
     },
     "metadata": {},
     "output_type": "display_data"
    },
    {
     "data": {
      "text/html": [
       "<table border=\"1\" class=\"dataframe\">\n",
       "  <thead>\n",
       "    <tr style=\"text-align: left;\">\n",
       "      <th>epoch</th>\n",
       "      <th>train_loss</th>\n",
       "      <th>valid_loss</th>\n",
       "      <th>perplexity</th>\n",
       "      <th>time</th>\n",
       "    </tr>\n",
       "  </thead>\n",
       "  <tbody>\n",
       "    <tr>\n",
       "      <td>0</td>\n",
       "      <td>4.560205</td>\n",
       "      <td>4.179752</td>\n",
       "      <td>65.349670</td>\n",
       "      <td>00:23</td>\n",
       "    </tr>\n",
       "  </tbody>\n",
       "</table>"
      ],
      "text/plain": [
       "<IPython.core.display.HTML object>"
      ]
     },
     "metadata": {},
     "output_type": "display_data"
    }
   ],
   "source": [
    "learn.fit_one_cycle(1, 1e-4)"
   ]
  },
  {
   "cell_type": "code",
   "execution_count": 14,
   "id": "2fe603d9",
   "metadata": {
    "execution": {
     "iopub.execute_input": "2022-11-08T23:57:28.178429Z",
     "iopub.status.busy": "2022-11-08T23:57:28.176607Z",
     "iopub.status.idle": "2022-11-08T23:57:28.185296Z",
     "shell.execute_reply": "2022-11-08T23:57:28.184252Z"
    },
    "papermill": {
     "duration": 0.018206,
     "end_time": "2022-11-08T23:57:28.187509",
     "exception": false,
     "start_time": "2022-11-08T23:57:28.169303",
     "status": "completed"
    },
    "tags": []
   },
   "outputs": [
    {
     "data": {
      "text/plain": [
       "torch.Size([1, 5])"
      ]
     },
     "execution_count": 14,
     "metadata": {},
     "output_type": "execute_result"
    }
   ],
   "source": [
    "prompt = 'Waves on the ocean'\n",
    "prompt_ids = tokenizer.encode(prompt)\n",
    "inp = tensor(prompt_ids)[None].cuda()\n",
    "inp.shape"
   ]
  },
  {
   "cell_type": "code",
   "execution_count": 15,
   "id": "01570198",
   "metadata": {
    "execution": {
     "iopub.execute_input": "2022-11-08T23:57:28.200853Z",
     "iopub.status.busy": "2022-11-08T23:57:28.200579Z",
     "iopub.status.idle": "2022-11-08T23:57:28.795786Z",
     "shell.execute_reply": "2022-11-08T23:57:28.794689Z"
    },
    "papermill": {
     "duration": 0.604672,
     "end_time": "2022-11-08T23:57:28.798432",
     "exception": false,
     "start_time": "2022-11-08T23:57:28.193760",
     "status": "completed"
    },
    "tags": []
   },
   "outputs": [
    {
     "name": "stderr",
     "output_type": "stream",
     "text": [
      "The attention mask and the pad token id were not set. As a consequence, you may observe unexpected behavior. Please pass your input's `attention_mask` to obtain reliable results.\n",
      "Setting `pad_token_id` to `eos_token_id`:50256 for open-end generation.\n"
     ]
    },
    {
     "name": "stdout",
     "output_type": "stream",
     "text": [
      "Output:\n",
      "----------------------------------------------------------------------------------------------------\n",
      "Waves on the ocean floor.\n",
      "I'll take you to the shore,\n",
      "And I'll bring you back to shore\n",
      "To the sea-floor, where you'll find me.\n",
      "\n",
      "\n",
      "You'll see my face, and your eyes will see\n",
      "My face. You'll hear my voice\n"
     ]
    }
   ],
   "source": [
    "preds = learn.model.generate(inp, max_length=60, num_beams=5, no_repeat_ngram_size=2, early_stopping=True)\n",
    "print(\"Output:\\n\" + 100 * '-')\n",
    "print(tokenizer.decode(preds[0].cpu().numpy(), skip_special_tokens=True))"
   ]
  },
  {
   "cell_type": "code",
   "execution_count": 16,
   "id": "5e5206c6",
   "metadata": {
    "execution": {
     "iopub.execute_input": "2022-11-08T23:57:28.813792Z",
     "iopub.status.busy": "2022-11-08T23:57:28.812894Z",
     "iopub.status.idle": "2022-11-08T23:57:29.392291Z",
     "shell.execute_reply": "2022-11-08T23:57:29.390639Z"
    },
    "papermill": {
     "duration": 0.589668,
     "end_time": "2022-11-08T23:57:29.395228",
     "exception": false,
     "start_time": "2022-11-08T23:57:28.805560",
     "status": "completed"
    },
    "tags": []
   },
   "outputs": [
    {
     "name": "stderr",
     "output_type": "stream",
     "text": [
      "The attention mask and the pad token id were not set. As a consequence, you may observe unexpected behavior. Please pass your input's `attention_mask` to obtain reliable results.\n",
      "Setting `pad_token_id` to `eos_token_id`:50256 for open-end generation.\n"
     ]
    },
    {
     "name": "stdout",
     "output_type": "stream",
     "text": [
      "Output:\n",
      "----------------------------------------------------------------------------------------------------\n",
      "Among the trees of the earth,\n",
      "And the stars of heaven, and the moon's stars;\n",
      "The stars, the sun's rays, are cast down\n",
      "From the heavens, from the sky, to the sea.\n",
      "But, behold, I say unto you, there is not a man\n"
     ]
    }
   ],
   "source": [
    "prompt = \"Among the trees\"\n",
    "prompt_ids = tokenizer.encode(prompt)\n",
    "inp = tensor(prompt_ids)[None].cuda()\n",
    "preds = learn.model.generate(inp, max_length=60, num_beams=5, no_repeat_ngram_size=2, early_stopping=True)\n",
    "print(\"Output:\\n\" + 100 * '-')\n",
    "print(tokenizer.decode(preds[0].cpu().numpy(), skip_special_tokens=True))"
   ]
  },
  {
   "cell_type": "code",
   "execution_count": 17,
   "id": "f2cf2e24",
   "metadata": {
    "execution": {
     "iopub.execute_input": "2022-11-08T23:57:29.409575Z",
     "iopub.status.busy": "2022-11-08T23:57:29.409289Z",
     "iopub.status.idle": "2022-11-08T23:57:31.230373Z",
     "shell.execute_reply": "2022-11-08T23:57:31.229459Z"
    },
    "papermill": {
     "duration": 1.830951,
     "end_time": "2022-11-08T23:57:31.233018",
     "exception": false,
     "start_time": "2022-11-08T23:57:29.402067",
     "status": "completed"
    },
    "tags": []
   },
   "outputs": [
    {
     "name": "stderr",
     "output_type": "stream",
     "text": [
      "The attention mask and the pad token id were not set. As a consequence, you may observe unexpected behavior. Please pass your input's `attention_mask` to obtain reliable results.\n",
      "Setting `pad_token_id` to `eos_token_id`:50256 for open-end generation.\n"
     ]
    },
    {
     "name": "stdout",
     "output_type": "stream",
     "text": [
      "Output:\n",
      "----------------------------------------------------------------------------------------------------\n",
      "The mist that lies beneath the sky, and the stars that are in the midst of it,\n",
      "And the clouds that surround it;\n",
      "But the sun and moon, the moon and stars\n",
      "That are not in their midst, nor are they seen\n",
      "By the naked eye, or by the blind eye\n",
      "Of men who have seen them.\n",
      "They are the shadows of the night; they are their shadows\n",
      "On the earth, on the sea; and they lie in wait\n",
      "For the day when they shall rise again, when the world shall come\n",
      "From the dead to the living.\n",
      "\n",
      "\n",
      "\"And now, behold, I say unto thee, thou art the Son of God.\"\n",
      "I say to thee: \"Thy kingdom come\n"
     ]
    }
   ],
   "source": [
    "prompt = \"The mist that lies beneath the sky\"\n",
    "prompt_ids = tokenizer.encode(prompt)\n",
    "inp = tensor(prompt_ids)[None].cuda()\n",
    "preds = learn.model.generate(inp, max_length=150, num_beams=5, no_repeat_ngram_size=2, early_stopping=True)\n",
    "print(\"Output:\\n\" + 100 * '-')\n",
    "print(tokenizer.decode(preds[0].cpu().numpy(), skip_special_tokens=True))"
   ]
  }
 ],
 "metadata": {
  "kernelspec": {
   "display_name": "Python 3",
   "language": "python",
   "name": "python3"
  },
  "language_info": {
   "codemirror_mode": {
    "name": "ipython",
    "version": 3
   },
   "file_extension": ".py",
   "mimetype": "text/x-python",
   "name": "python",
   "nbconvert_exporter": "python",
   "pygments_lexer": "ipython3",
   "version": "3.7.12"
  },
  "papermill": {
   "default_parameters": {},
   "duration": 119.329933,
   "end_time": "2022-11-08T23:57:34.036621",
   "environment_variables": {},
   "exception": null,
   "input_path": "__notebook__.ipynb",
   "output_path": "__notebook__.ipynb",
   "parameters": {},
   "start_time": "2022-11-08T23:55:34.706688",
   "version": "2.3.4"
  },
  "widgets": {
   "application/vnd.jupyter.widget-state+json": {
    "state": {
     "05353834df2142d1a4a6d312dbea7fbd": {
      "model_module": "@jupyter-widgets/controls",
      "model_module_version": "1.5.0",
      "model_name": "DescriptionStyleModel",
      "state": {
       "_model_module": "@jupyter-widgets/controls",
       "_model_module_version": "1.5.0",
       "_model_name": "DescriptionStyleModel",
       "_view_count": null,
       "_view_module": "@jupyter-widgets/base",
       "_view_module_version": "1.2.0",
       "_view_name": "StyleView",
       "description_width": ""
      }
     },
     "072e818480234fcc825fa7c42946650d": {
      "model_module": "@jupyter-widgets/base",
      "model_module_version": "1.2.0",
      "model_name": "LayoutModel",
      "state": {
       "_model_module": "@jupyter-widgets/base",
       "_model_module_version": "1.2.0",
       "_model_name": "LayoutModel",
       "_view_count": null,
       "_view_module": "@jupyter-widgets/base",
       "_view_module_version": "1.2.0",
       "_view_name": "LayoutView",
       "align_content": null,
       "align_items": null,
       "align_self": null,
       "border": null,
       "bottom": null,
       "display": null,
       "flex": null,
       "flex_flow": null,
       "grid_area": null,
       "grid_auto_columns": null,
       "grid_auto_flow": null,
       "grid_auto_rows": null,
       "grid_column": null,
       "grid_gap": null,
       "grid_row": null,
       "grid_template_areas": null,
       "grid_template_columns": null,
       "grid_template_rows": null,
       "height": null,
       "justify_content": null,
       "justify_items": null,
       "left": null,
       "margin": null,
       "max_height": null,
       "max_width": null,
       "min_height": null,
       "min_width": null,
       "object_fit": null,
       "object_position": null,
       "order": null,
       "overflow": null,
       "overflow_x": null,
       "overflow_y": null,
       "padding": null,
       "right": null,
       "top": null,
       "visibility": null,
       "width": null
      }
     },
     "07f7fd8b6cd245a999497487abdf0a45": {
      "model_module": "@jupyter-widgets/controls",
      "model_module_version": "1.5.0",
      "model_name": "HTMLModel",
      "state": {
       "_dom_classes": [],
       "_model_module": "@jupyter-widgets/controls",
       "_model_module_version": "1.5.0",
       "_model_name": "HTMLModel",
       "_view_count": null,
       "_view_module": "@jupyter-widgets/controls",
       "_view_module_version": "1.5.0",
       "_view_name": "HTMLView",
       "description": "",
       "description_tooltip": null,
       "layout": "IPY_MODEL_c30a77ea61624989b75bd802bed08ba4",
       "placeholder": "​",
       "style": "IPY_MODEL_b554dce5ad184ef2b137330c90441257",
       "value": "Downloading: 100%"
      }
     },
     "0da9f8a8321346fc9a48b41992c885f1": {
      "model_module": "@jupyter-widgets/controls",
      "model_module_version": "1.5.0",
      "model_name": "HTMLModel",
      "state": {
       "_dom_classes": [],
       "_model_module": "@jupyter-widgets/controls",
       "_model_module_version": "1.5.0",
       "_model_name": "HTMLModel",
       "_view_count": null,
       "_view_module": "@jupyter-widgets/controls",
       "_view_module_version": "1.5.0",
       "_view_name": "HTMLView",
       "description": "",
       "description_tooltip": null,
       "layout": "IPY_MODEL_28e6f25abb2c42d199358ff3ac39dc21",
       "placeholder": "​",
       "style": "IPY_MODEL_770a9f9a0a3d43368c41c5d18a48cc16",
       "value": " 0.99M/0.99M [00:00&lt;00:00, 2.09MB/s]"
      }
     },
     "0e6a711d528d44c6b44df1cf5dbcb554": {
      "model_module": "@jupyter-widgets/controls",
      "model_module_version": "1.5.0",
      "model_name": "HTMLModel",
      "state": {
       "_dom_classes": [],
       "_model_module": "@jupyter-widgets/controls",
       "_model_module_version": "1.5.0",
       "_model_name": "HTMLModel",
       "_view_count": null,
       "_view_module": "@jupyter-widgets/controls",
       "_view_module_version": "1.5.0",
       "_view_name": "HTMLView",
       "description": "",
       "description_tooltip": null,
       "layout": "IPY_MODEL_b6869fc456ac4e30954ef84f51226ba7",
       "placeholder": "​",
       "style": "IPY_MODEL_05353834df2142d1a4a6d312dbea7fbd",
       "value": "Downloading: 100%"
      }
     },
     "0fec0057d6d94f52b1da4b146accbaaa": {
      "model_module": "@jupyter-widgets/base",
      "model_module_version": "1.2.0",
      "model_name": "LayoutModel",
      "state": {
       "_model_module": "@jupyter-widgets/base",
       "_model_module_version": "1.2.0",
       "_model_name": "LayoutModel",
       "_view_count": null,
       "_view_module": "@jupyter-widgets/base",
       "_view_module_version": "1.2.0",
       "_view_name": "LayoutView",
       "align_content": null,
       "align_items": null,
       "align_self": null,
       "border": null,
       "bottom": null,
       "display": null,
       "flex": null,
       "flex_flow": null,
       "grid_area": null,
       "grid_auto_columns": null,
       "grid_auto_flow": null,
       "grid_auto_rows": null,
       "grid_column": null,
       "grid_gap": null,
       "grid_row": null,
       "grid_template_areas": null,
       "grid_template_columns": null,
       "grid_template_rows": null,
       "height": null,
       "justify_content": null,
       "justify_items": null,
       "left": null,
       "margin": null,
       "max_height": null,
       "max_width": null,
       "min_height": null,
       "min_width": null,
       "object_fit": null,
       "object_position": null,
       "order": null,
       "overflow": null,
       "overflow_x": null,
       "overflow_y": null,
       "padding": null,
       "right": null,
       "top": null,
       "visibility": null,
       "width": null
      }
     },
     "10a4af351fd946af9395916236e7f0e2": {
      "model_module": "@jupyter-widgets/controls",
      "model_module_version": "1.5.0",
      "model_name": "HBoxModel",
      "state": {
       "_dom_classes": [],
       "_model_module": "@jupyter-widgets/controls",
       "_model_module_version": "1.5.0",
       "_model_name": "HBoxModel",
       "_view_count": null,
       "_view_module": "@jupyter-widgets/controls",
       "_view_module_version": "1.5.0",
       "_view_name": "HBoxView",
       "box_style": "",
       "children": [
        "IPY_MODEL_51defd6c517e4ade8945be17f43e970f",
        "IPY_MODEL_9e18172647194ccabe8f1f0ca5595550",
        "IPY_MODEL_8f45ea5ce272438c8e1389e1266f5258"
       ],
       "layout": "IPY_MODEL_bfe88c7b36d04f4290568c568b112ec9"
      }
     },
     "16f2352f5295412dbcdde122c040f5af": {
      "model_module": "@jupyter-widgets/base",
      "model_module_version": "1.2.0",
      "model_name": "LayoutModel",
      "state": {
       "_model_module": "@jupyter-widgets/base",
       "_model_module_version": "1.2.0",
       "_model_name": "LayoutModel",
       "_view_count": null,
       "_view_module": "@jupyter-widgets/base",
       "_view_module_version": "1.2.0",
       "_view_name": "LayoutView",
       "align_content": null,
       "align_items": null,
       "align_self": null,
       "border": null,
       "bottom": null,
       "display": null,
       "flex": null,
       "flex_flow": null,
       "grid_area": null,
       "grid_auto_columns": null,
       "grid_auto_flow": null,
       "grid_auto_rows": null,
       "grid_column": null,
       "grid_gap": null,
       "grid_row": null,
       "grid_template_areas": null,
       "grid_template_columns": null,
       "grid_template_rows": null,
       "height": null,
       "justify_content": null,
       "justify_items": null,
       "left": null,
       "margin": null,
       "max_height": null,
       "max_width": null,
       "min_height": null,
       "min_width": null,
       "object_fit": null,
       "object_position": null,
       "order": null,
       "overflow": null,
       "overflow_x": null,
       "overflow_y": null,
       "padding": null,
       "right": null,
       "top": null,
       "visibility": null,
       "width": null
      }
     },
     "17175458b67a4186a50ef1561c7abba7": {
      "model_module": "@jupyter-widgets/controls",
      "model_module_version": "1.5.0",
      "model_name": "HBoxModel",
      "state": {
       "_dom_classes": [],
       "_model_module": "@jupyter-widgets/controls",
       "_model_module_version": "1.5.0",
       "_model_name": "HBoxModel",
       "_view_count": null,
       "_view_module": "@jupyter-widgets/controls",
       "_view_module_version": "1.5.0",
       "_view_name": "HBoxView",
       "box_style": "",
       "children": [
        "IPY_MODEL_07f7fd8b6cd245a999497487abdf0a45",
        "IPY_MODEL_1a7f4297e7864f57bcbb55bff15135a3",
        "IPY_MODEL_5fd2895003c942e782c2a208ebd4b463"
       ],
       "layout": "IPY_MODEL_fb24ef4fade14003a36341567bee5fec"
      }
     },
     "1a5e9c32a15f4ab0a5e945ef4310059e": {
      "model_module": "@jupyter-widgets/controls",
      "model_module_version": "1.5.0",
      "model_name": "HBoxModel",
      "state": {
       "_dom_classes": [],
       "_model_module": "@jupyter-widgets/controls",
       "_model_module_version": "1.5.0",
       "_model_name": "HBoxModel",
       "_view_count": null,
       "_view_module": "@jupyter-widgets/controls",
       "_view_module_version": "1.5.0",
       "_view_name": "HBoxView",
       "box_style": "",
       "children": [
        "IPY_MODEL_2139b62c92eb42f59b6014d56575493f",
        "IPY_MODEL_ccfd51f749674f13b4852355b61dfb7f",
        "IPY_MODEL_7bc5b3c4b81d4b2cbdf44cd60486576c"
       ],
       "layout": "IPY_MODEL_36b263a4116d407dbc64f68480205cc1"
      }
     },
     "1a7f4297e7864f57bcbb55bff15135a3": {
      "model_module": "@jupyter-widgets/controls",
      "model_module_version": "1.5.0",
      "model_name": "FloatProgressModel",
      "state": {
       "_dom_classes": [],
       "_model_module": "@jupyter-widgets/controls",
       "_model_module_version": "1.5.0",
       "_model_name": "FloatProgressModel",
       "_view_count": null,
       "_view_module": "@jupyter-widgets/controls",
       "_view_module_version": "1.5.0",
       "_view_name": "ProgressView",
       "bar_style": "success",
       "description": "",
       "description_tooltip": null,
       "layout": "IPY_MODEL_072e818480234fcc825fa7c42946650d",
       "max": 665.0,
       "min": 0.0,
       "orientation": "horizontal",
       "style": "IPY_MODEL_9137590346ae436999fdaa3acb4753e7",
       "value": 665.0
      }
     },
     "1e42990ce9d0435db7dc15138bec10d9": {
      "model_module": "@jupyter-widgets/base",
      "model_module_version": "1.2.0",
      "model_name": "LayoutModel",
      "state": {
       "_model_module": "@jupyter-widgets/base",
       "_model_module_version": "1.2.0",
       "_model_name": "LayoutModel",
       "_view_count": null,
       "_view_module": "@jupyter-widgets/base",
       "_view_module_version": "1.2.0",
       "_view_name": "LayoutView",
       "align_content": null,
       "align_items": null,
       "align_self": null,
       "border": null,
       "bottom": null,
       "display": null,
       "flex": null,
       "flex_flow": null,
       "grid_area": null,
       "grid_auto_columns": null,
       "grid_auto_flow": null,
       "grid_auto_rows": null,
       "grid_column": null,
       "grid_gap": null,
       "grid_row": null,
       "grid_template_areas": null,
       "grid_template_columns": null,
       "grid_template_rows": null,
       "height": null,
       "justify_content": null,
       "justify_items": null,
       "left": null,
       "margin": null,
       "max_height": null,
       "max_width": null,
       "min_height": null,
       "min_width": null,
       "object_fit": null,
       "object_position": null,
       "order": null,
       "overflow": null,
       "overflow_x": null,
       "overflow_y": null,
       "padding": null,
       "right": null,
       "top": null,
       "visibility": null,
       "width": null
      }
     },
     "1fcc92af1fca4a85beb07a7050bed93a": {
      "model_module": "@jupyter-widgets/controls",
      "model_module_version": "1.5.0",
      "model_name": "DescriptionStyleModel",
      "state": {
       "_model_module": "@jupyter-widgets/controls",
       "_model_module_version": "1.5.0",
       "_model_name": "DescriptionStyleModel",
       "_view_count": null,
       "_view_module": "@jupyter-widgets/base",
       "_view_module_version": "1.2.0",
       "_view_name": "StyleView",
       "description_width": ""
      }
     },
     "2139b62c92eb42f59b6014d56575493f": {
      "model_module": "@jupyter-widgets/controls",
      "model_module_version": "1.5.0",
      "model_name": "HTMLModel",
      "state": {
       "_dom_classes": [],
       "_model_module": "@jupyter-widgets/controls",
       "_model_module_version": "1.5.0",
       "_model_name": "HTMLModel",
       "_view_count": null,
       "_view_module": "@jupyter-widgets/controls",
       "_view_module_version": "1.5.0",
       "_view_name": "HTMLView",
       "description": "",
       "description_tooltip": null,
       "layout": "IPY_MODEL_ee7478d8377b46278a849422f9032ee8",
       "placeholder": "​",
       "style": "IPY_MODEL_8d93f638e11f4d1ea7eb241fff3ffcc7",
       "value": "Downloading: 100%"
      }
     },
     "28e6f25abb2c42d199358ff3ac39dc21": {
      "model_module": "@jupyter-widgets/base",
      "model_module_version": "1.2.0",
      "model_name": "LayoutModel",
      "state": {
       "_model_module": "@jupyter-widgets/base",
       "_model_module_version": "1.2.0",
       "_model_name": "LayoutModel",
       "_view_count": null,
       "_view_module": "@jupyter-widgets/base",
       "_view_module_version": "1.2.0",
       "_view_name": "LayoutView",
       "align_content": null,
       "align_items": null,
       "align_self": null,
       "border": null,
       "bottom": null,
       "display": null,
       "flex": null,
       "flex_flow": null,
       "grid_area": null,
       "grid_auto_columns": null,
       "grid_auto_flow": null,
       "grid_auto_rows": null,
       "grid_column": null,
       "grid_gap": null,
       "grid_row": null,
       "grid_template_areas": null,
       "grid_template_columns": null,
       "grid_template_rows": null,
       "height": null,
       "justify_content": null,
       "justify_items": null,
       "left": null,
       "margin": null,
       "max_height": null,
       "max_width": null,
       "min_height": null,
       "min_width": null,
       "object_fit": null,
       "object_position": null,
       "order": null,
       "overflow": null,
       "overflow_x": null,
       "overflow_y": null,
       "padding": null,
       "right": null,
       "top": null,
       "visibility": null,
       "width": null
      }
     },
     "2cbba8d2d48a4f718f49bc978dbe9bd8": {
      "model_module": "@jupyter-widgets/controls",
      "model_module_version": "1.5.0",
      "model_name": "HTMLModel",
      "state": {
       "_dom_classes": [],
       "_model_module": "@jupyter-widgets/controls",
       "_model_module_version": "1.5.0",
       "_model_name": "HTMLModel",
       "_view_count": null,
       "_view_module": "@jupyter-widgets/controls",
       "_view_module_version": "1.5.0",
       "_view_name": "HTMLView",
       "description": "",
       "description_tooltip": null,
       "layout": "IPY_MODEL_a2d02f46179b484a937f76551b77bb9f",
       "placeholder": "​",
       "style": "IPY_MODEL_4a578dbbeddf4dd89649964c517394cc",
       "value": "Downloading: 100%"
      }
     },
     "36b263a4116d407dbc64f68480205cc1": {
      "model_module": "@jupyter-widgets/base",
      "model_module_version": "1.2.0",
      "model_name": "LayoutModel",
      "state": {
       "_model_module": "@jupyter-widgets/base",
       "_model_module_version": "1.2.0",
       "_model_name": "LayoutModel",
       "_view_count": null,
       "_view_module": "@jupyter-widgets/base",
       "_view_module_version": "1.2.0",
       "_view_name": "LayoutView",
       "align_content": null,
       "align_items": null,
       "align_self": null,
       "border": null,
       "bottom": null,
       "display": null,
       "flex": null,
       "flex_flow": null,
       "grid_area": null,
       "grid_auto_columns": null,
       "grid_auto_flow": null,
       "grid_auto_rows": null,
       "grid_column": null,
       "grid_gap": null,
       "grid_row": null,
       "grid_template_areas": null,
       "grid_template_columns": null,
       "grid_template_rows": null,
       "height": null,
       "justify_content": null,
       "justify_items": null,
       "left": null,
       "margin": null,
       "max_height": null,
       "max_width": null,
       "min_height": null,
       "min_width": null,
       "object_fit": null,
       "object_position": null,
       "order": null,
       "overflow": null,
       "overflow_x": null,
       "overflow_y": null,
       "padding": null,
       "right": null,
       "top": null,
       "visibility": null,
       "width": null
      }
     },
     "3981da885e61416ca0e31c101f2df210": {
      "model_module": "@jupyter-widgets/controls",
      "model_module_version": "1.5.0",
      "model_name": "ProgressStyleModel",
      "state": {
       "_model_module": "@jupyter-widgets/controls",
       "_model_module_version": "1.5.0",
       "_model_name": "ProgressStyleModel",
       "_view_count": null,
       "_view_module": "@jupyter-widgets/base",
       "_view_module_version": "1.2.0",
       "_view_name": "StyleView",
       "bar_color": null,
       "description_width": ""
      }
     },
     "42bc1d92fdd340d2993dc7a1c5eb80f8": {
      "model_module": "@jupyter-widgets/controls",
      "model_module_version": "1.5.0",
      "model_name": "DescriptionStyleModel",
      "state": {
       "_model_module": "@jupyter-widgets/controls",
       "_model_module_version": "1.5.0",
       "_model_name": "DescriptionStyleModel",
       "_view_count": null,
       "_view_module": "@jupyter-widgets/base",
       "_view_module_version": "1.2.0",
       "_view_name": "StyleView",
       "description_width": ""
      }
     },
     "4a578dbbeddf4dd89649964c517394cc": {
      "model_module": "@jupyter-widgets/controls",
      "model_module_version": "1.5.0",
      "model_name": "DescriptionStyleModel",
      "state": {
       "_model_module": "@jupyter-widgets/controls",
       "_model_module_version": "1.5.0",
       "_model_name": "DescriptionStyleModel",
       "_view_count": null,
       "_view_module": "@jupyter-widgets/base",
       "_view_module_version": "1.2.0",
       "_view_name": "StyleView",
       "description_width": ""
      }
     },
     "51defd6c517e4ade8945be17f43e970f": {
      "model_module": "@jupyter-widgets/controls",
      "model_module_version": "1.5.0",
      "model_name": "HTMLModel",
      "state": {
       "_dom_classes": [],
       "_model_module": "@jupyter-widgets/controls",
       "_model_module_version": "1.5.0",
       "_model_name": "HTMLModel",
       "_view_count": null,
       "_view_module": "@jupyter-widgets/controls",
       "_view_module_version": "1.5.0",
       "_view_name": "HTMLView",
       "description": "",
       "description_tooltip": null,
       "layout": "IPY_MODEL_0fec0057d6d94f52b1da4b146accbaaa",
       "placeholder": "​",
       "style": "IPY_MODEL_8f625be7c79a4529b6b4b88ba3c8c778",
       "value": "Downloading: 100%"
      }
     },
     "5fd2895003c942e782c2a208ebd4b463": {
      "model_module": "@jupyter-widgets/controls",
      "model_module_version": "1.5.0",
      "model_name": "HTMLModel",
      "state": {
       "_dom_classes": [],
       "_model_module": "@jupyter-widgets/controls",
       "_model_module_version": "1.5.0",
       "_model_name": "HTMLModel",
       "_view_count": null,
       "_view_module": "@jupyter-widgets/controls",
       "_view_module_version": "1.5.0",
       "_view_name": "HTMLView",
       "description": "",
       "description_tooltip": null,
       "layout": "IPY_MODEL_16f2352f5295412dbcdde122c040f5af",
       "placeholder": "​",
       "style": "IPY_MODEL_1fcc92af1fca4a85beb07a7050bed93a",
       "value": " 665/665 [00:00&lt;00:00, 25.4kB/s]"
      }
     },
     "6655404fe32349ebbb510811b17f4385": {
      "model_module": "@jupyter-widgets/base",
      "model_module_version": "1.2.0",
      "model_name": "LayoutModel",
      "state": {
       "_model_module": "@jupyter-widgets/base",
       "_model_module_version": "1.2.0",
       "_model_name": "LayoutModel",
       "_view_count": null,
       "_view_module": "@jupyter-widgets/base",
       "_view_module_version": "1.2.0",
       "_view_name": "LayoutView",
       "align_content": null,
       "align_items": null,
       "align_self": null,
       "border": null,
       "bottom": null,
       "display": null,
       "flex": null,
       "flex_flow": null,
       "grid_area": null,
       "grid_auto_columns": null,
       "grid_auto_flow": null,
       "grid_auto_rows": null,
       "grid_column": null,
       "grid_gap": null,
       "grid_row": null,
       "grid_template_areas": null,
       "grid_template_columns": null,
       "grid_template_rows": null,
       "height": null,
       "justify_content": null,
       "justify_items": null,
       "left": null,
       "margin": null,
       "max_height": null,
       "max_width": null,
       "min_height": null,
       "min_width": null,
       "object_fit": null,
       "object_position": null,
       "order": null,
       "overflow": null,
       "overflow_x": null,
       "overflow_y": null,
       "padding": null,
       "right": null,
       "top": null,
       "visibility": null,
       "width": null
      }
     },
     "6c3fb028e2174186982ec5a2fda0257a": {
      "model_module": "@jupyter-widgets/controls",
      "model_module_version": "1.5.0",
      "model_name": "ProgressStyleModel",
      "state": {
       "_model_module": "@jupyter-widgets/controls",
       "_model_module_version": "1.5.0",
       "_model_name": "ProgressStyleModel",
       "_view_count": null,
       "_view_module": "@jupyter-widgets/base",
       "_view_module_version": "1.2.0",
       "_view_name": "StyleView",
       "bar_color": null,
       "description_width": ""
      }
     },
     "6cfb5359b2a049b8b530c4643a3dc2e2": {
      "model_module": "@jupyter-widgets/controls",
      "model_module_version": "1.5.0",
      "model_name": "HBoxModel",
      "state": {
       "_dom_classes": [],
       "_model_module": "@jupyter-widgets/controls",
       "_model_module_version": "1.5.0",
       "_model_name": "HBoxModel",
       "_view_count": null,
       "_view_module": "@jupyter-widgets/controls",
       "_view_module_version": "1.5.0",
       "_view_name": "HBoxView",
       "box_style": "",
       "children": [
        "IPY_MODEL_0e6a711d528d44c6b44df1cf5dbcb554",
        "IPY_MODEL_ae95ac20de5f4cd79f2b2904c8f9fa0b",
        "IPY_MODEL_0da9f8a8321346fc9a48b41992c885f1"
       ],
       "layout": "IPY_MODEL_c357fe1999ce471f9b38435699083cd7"
      }
     },
     "770a9f9a0a3d43368c41c5d18a48cc16": {
      "model_module": "@jupyter-widgets/controls",
      "model_module_version": "1.5.0",
      "model_name": "DescriptionStyleModel",
      "state": {
       "_model_module": "@jupyter-widgets/controls",
       "_model_module_version": "1.5.0",
       "_model_name": "DescriptionStyleModel",
       "_view_count": null,
       "_view_module": "@jupyter-widgets/base",
       "_view_module_version": "1.2.0",
       "_view_name": "StyleView",
       "description_width": ""
      }
     },
     "7bc5b3c4b81d4b2cbdf44cd60486576c": {
      "model_module": "@jupyter-widgets/controls",
      "model_module_version": "1.5.0",
      "model_name": "HTMLModel",
      "state": {
       "_dom_classes": [],
       "_model_module": "@jupyter-widgets/controls",
       "_model_module_version": "1.5.0",
       "_model_name": "HTMLModel",
       "_view_count": null,
       "_view_module": "@jupyter-widgets/controls",
       "_view_module_version": "1.5.0",
       "_view_name": "HTMLView",
       "description": "",
       "description_tooltip": null,
       "layout": "IPY_MODEL_e27b6547b18a4952bcf48d6d269dc185",
       "placeholder": "​",
       "style": "IPY_MODEL_42bc1d92fdd340d2993dc7a1c5eb80f8",
       "value": " 1.29M/1.29M [00:00&lt;00:00, 1.17MB/s]"
      }
     },
     "8b33a45380c04cff8a99974d4cc7c530": {
      "model_module": "@jupyter-widgets/base",
      "model_module_version": "1.2.0",
      "model_name": "LayoutModel",
      "state": {
       "_model_module": "@jupyter-widgets/base",
       "_model_module_version": "1.2.0",
       "_model_name": "LayoutModel",
       "_view_count": null,
       "_view_module": "@jupyter-widgets/base",
       "_view_module_version": "1.2.0",
       "_view_name": "LayoutView",
       "align_content": null,
       "align_items": null,
       "align_self": null,
       "border": null,
       "bottom": null,
       "display": null,
       "flex": null,
       "flex_flow": null,
       "grid_area": null,
       "grid_auto_columns": null,
       "grid_auto_flow": null,
       "grid_auto_rows": null,
       "grid_column": null,
       "grid_gap": null,
       "grid_row": null,
       "grid_template_areas": null,
       "grid_template_columns": null,
       "grid_template_rows": null,
       "height": null,
       "justify_content": null,
       "justify_items": null,
       "left": null,
       "margin": null,
       "max_height": null,
       "max_width": null,
       "min_height": null,
       "min_width": null,
       "object_fit": null,
       "object_position": null,
       "order": null,
       "overflow": null,
       "overflow_x": null,
       "overflow_y": null,
       "padding": null,
       "right": null,
       "top": null,
       "visibility": null,
       "width": null
      }
     },
     "8d93f638e11f4d1ea7eb241fff3ffcc7": {
      "model_module": "@jupyter-widgets/controls",
      "model_module_version": "1.5.0",
      "model_name": "DescriptionStyleModel",
      "state": {
       "_model_module": "@jupyter-widgets/controls",
       "_model_module_version": "1.5.0",
       "_model_name": "DescriptionStyleModel",
       "_view_count": null,
       "_view_module": "@jupyter-widgets/base",
       "_view_module_version": "1.2.0",
       "_view_name": "StyleView",
       "description_width": ""
      }
     },
     "8f45ea5ce272438c8e1389e1266f5258": {
      "model_module": "@jupyter-widgets/controls",
      "model_module_version": "1.5.0",
      "model_name": "HTMLModel",
      "state": {
       "_dom_classes": [],
       "_model_module": "@jupyter-widgets/controls",
       "_model_module_version": "1.5.0",
       "_model_name": "HTMLModel",
       "_view_count": null,
       "_view_module": "@jupyter-widgets/controls",
       "_view_module_version": "1.5.0",
       "_view_name": "HTMLView",
       "description": "",
       "description_tooltip": null,
       "layout": "IPY_MODEL_f27474c1de614a4295162279cbcb8bb5",
       "placeholder": "​",
       "style": "IPY_MODEL_92d2fa7ba87f4682be6ef11604a000f6",
       "value": " 523M/523M [00:10&lt;00:00, 58.6MB/s]"
      }
     },
     "8f625be7c79a4529b6b4b88ba3c8c778": {
      "model_module": "@jupyter-widgets/controls",
      "model_module_version": "1.5.0",
      "model_name": "DescriptionStyleModel",
      "state": {
       "_model_module": "@jupyter-widgets/controls",
       "_model_module_version": "1.5.0",
       "_model_name": "DescriptionStyleModel",
       "_view_count": null,
       "_view_module": "@jupyter-widgets/base",
       "_view_module_version": "1.2.0",
       "_view_name": "StyleView",
       "description_width": ""
      }
     },
     "8f66dd3509d6436aa6699dc55a2b5930": {
      "model_module": "@jupyter-widgets/controls",
      "model_module_version": "1.5.0",
      "model_name": "HBoxModel",
      "state": {
       "_dom_classes": [],
       "_model_module": "@jupyter-widgets/controls",
       "_model_module_version": "1.5.0",
       "_model_name": "HBoxModel",
       "_view_count": null,
       "_view_module": "@jupyter-widgets/controls",
       "_view_module_version": "1.5.0",
       "_view_name": "HBoxView",
       "box_style": "",
       "children": [
        "IPY_MODEL_2cbba8d2d48a4f718f49bc978dbe9bd8",
        "IPY_MODEL_bafd60bc45da4a95a22181da978a2dd4",
        "IPY_MODEL_b97cc9a8874140749799273f59d02c44"
       ],
       "layout": "IPY_MODEL_8b33a45380c04cff8a99974d4cc7c530"
      }
     },
     "9137590346ae436999fdaa3acb4753e7": {
      "model_module": "@jupyter-widgets/controls",
      "model_module_version": "1.5.0",
      "model_name": "ProgressStyleModel",
      "state": {
       "_model_module": "@jupyter-widgets/controls",
       "_model_module_version": "1.5.0",
       "_model_name": "ProgressStyleModel",
       "_view_count": null,
       "_view_module": "@jupyter-widgets/base",
       "_view_module_version": "1.2.0",
       "_view_name": "StyleView",
       "bar_color": null,
       "description_width": ""
      }
     },
     "92d2fa7ba87f4682be6ef11604a000f6": {
      "model_module": "@jupyter-widgets/controls",
      "model_module_version": "1.5.0",
      "model_name": "DescriptionStyleModel",
      "state": {
       "_model_module": "@jupyter-widgets/controls",
       "_model_module_version": "1.5.0",
       "_model_name": "DescriptionStyleModel",
       "_view_count": null,
       "_view_module": "@jupyter-widgets/base",
       "_view_module_version": "1.2.0",
       "_view_name": "StyleView",
       "description_width": ""
      }
     },
     "9966e7552c804bf2b0f1b3df007a7857": {
      "model_module": "@jupyter-widgets/base",
      "model_module_version": "1.2.0",
      "model_name": "LayoutModel",
      "state": {
       "_model_module": "@jupyter-widgets/base",
       "_model_module_version": "1.2.0",
       "_model_name": "LayoutModel",
       "_view_count": null,
       "_view_module": "@jupyter-widgets/base",
       "_view_module_version": "1.2.0",
       "_view_name": "LayoutView",
       "align_content": null,
       "align_items": null,
       "align_self": null,
       "border": null,
       "bottom": null,
       "display": null,
       "flex": null,
       "flex_flow": null,
       "grid_area": null,
       "grid_auto_columns": null,
       "grid_auto_flow": null,
       "grid_auto_rows": null,
       "grid_column": null,
       "grid_gap": null,
       "grid_row": null,
       "grid_template_areas": null,
       "grid_template_columns": null,
       "grid_template_rows": null,
       "height": null,
       "justify_content": null,
       "justify_items": null,
       "left": null,
       "margin": null,
       "max_height": null,
       "max_width": null,
       "min_height": null,
       "min_width": null,
       "object_fit": null,
       "object_position": null,
       "order": null,
       "overflow": null,
       "overflow_x": null,
       "overflow_y": null,
       "padding": null,
       "right": null,
       "top": null,
       "visibility": null,
       "width": null
      }
     },
     "9e18172647194ccabe8f1f0ca5595550": {
      "model_module": "@jupyter-widgets/controls",
      "model_module_version": "1.5.0",
      "model_name": "FloatProgressModel",
      "state": {
       "_dom_classes": [],
       "_model_module": "@jupyter-widgets/controls",
       "_model_module_version": "1.5.0",
       "_model_name": "FloatProgressModel",
       "_view_count": null,
       "_view_module": "@jupyter-widgets/controls",
       "_view_module_version": "1.5.0",
       "_view_name": "ProgressView",
       "bar_style": "success",
       "description": "",
       "description_tooltip": null,
       "layout": "IPY_MODEL_1e42990ce9d0435db7dc15138bec10d9",
       "max": 548118077.0,
       "min": 0.0,
       "orientation": "horizontal",
       "style": "IPY_MODEL_ffb610b4e54f449b82987ec96d4911dc",
       "value": 548118077.0
      }
     },
     "a2d02f46179b484a937f76551b77bb9f": {
      "model_module": "@jupyter-widgets/base",
      "model_module_version": "1.2.0",
      "model_name": "LayoutModel",
      "state": {
       "_model_module": "@jupyter-widgets/base",
       "_model_module_version": "1.2.0",
       "_model_name": "LayoutModel",
       "_view_count": null,
       "_view_module": "@jupyter-widgets/base",
       "_view_module_version": "1.2.0",
       "_view_name": "LayoutView",
       "align_content": null,
       "align_items": null,
       "align_self": null,
       "border": null,
       "bottom": null,
       "display": null,
       "flex": null,
       "flex_flow": null,
       "grid_area": null,
       "grid_auto_columns": null,
       "grid_auto_flow": null,
       "grid_auto_rows": null,
       "grid_column": null,
       "grid_gap": null,
       "grid_row": null,
       "grid_template_areas": null,
       "grid_template_columns": null,
       "grid_template_rows": null,
       "height": null,
       "justify_content": null,
       "justify_items": null,
       "left": null,
       "margin": null,
       "max_height": null,
       "max_width": null,
       "min_height": null,
       "min_width": null,
       "object_fit": null,
       "object_position": null,
       "order": null,
       "overflow": null,
       "overflow_x": null,
       "overflow_y": null,
       "padding": null,
       "right": null,
       "top": null,
       "visibility": null,
       "width": null
      }
     },
     "ae95ac20de5f4cd79f2b2904c8f9fa0b": {
      "model_module": "@jupyter-widgets/controls",
      "model_module_version": "1.5.0",
      "model_name": "FloatProgressModel",
      "state": {
       "_dom_classes": [],
       "_model_module": "@jupyter-widgets/controls",
       "_model_module_version": "1.5.0",
       "_model_name": "FloatProgressModel",
       "_view_count": null,
       "_view_module": "@jupyter-widgets/controls",
       "_view_module_version": "1.5.0",
       "_view_name": "ProgressView",
       "bar_style": "success",
       "description": "",
       "description_tooltip": null,
       "layout": "IPY_MODEL_9966e7552c804bf2b0f1b3df007a7857",
       "max": 1042301.0,
       "min": 0.0,
       "orientation": "horizontal",
       "style": "IPY_MODEL_3981da885e61416ca0e31c101f2df210",
       "value": 1042301.0
      }
     },
     "b26667aec4da408e9fd8140c9544a012": {
      "model_module": "@jupyter-widgets/controls",
      "model_module_version": "1.5.0",
      "model_name": "ProgressStyleModel",
      "state": {
       "_model_module": "@jupyter-widgets/controls",
       "_model_module_version": "1.5.0",
       "_model_name": "ProgressStyleModel",
       "_view_count": null,
       "_view_module": "@jupyter-widgets/base",
       "_view_module_version": "1.2.0",
       "_view_name": "StyleView",
       "bar_color": null,
       "description_width": ""
      }
     },
     "b554dce5ad184ef2b137330c90441257": {
      "model_module": "@jupyter-widgets/controls",
      "model_module_version": "1.5.0",
      "model_name": "DescriptionStyleModel",
      "state": {
       "_model_module": "@jupyter-widgets/controls",
       "_model_module_version": "1.5.0",
       "_model_name": "DescriptionStyleModel",
       "_view_count": null,
       "_view_module": "@jupyter-widgets/base",
       "_view_module_version": "1.2.0",
       "_view_name": "StyleView",
       "description_width": ""
      }
     },
     "b6869fc456ac4e30954ef84f51226ba7": {
      "model_module": "@jupyter-widgets/base",
      "model_module_version": "1.2.0",
      "model_name": "LayoutModel",
      "state": {
       "_model_module": "@jupyter-widgets/base",
       "_model_module_version": "1.2.0",
       "_model_name": "LayoutModel",
       "_view_count": null,
       "_view_module": "@jupyter-widgets/base",
       "_view_module_version": "1.2.0",
       "_view_name": "LayoutView",
       "align_content": null,
       "align_items": null,
       "align_self": null,
       "border": null,
       "bottom": null,
       "display": null,
       "flex": null,
       "flex_flow": null,
       "grid_area": null,
       "grid_auto_columns": null,
       "grid_auto_flow": null,
       "grid_auto_rows": null,
       "grid_column": null,
       "grid_gap": null,
       "grid_row": null,
       "grid_template_areas": null,
       "grid_template_columns": null,
       "grid_template_rows": null,
       "height": null,
       "justify_content": null,
       "justify_items": null,
       "left": null,
       "margin": null,
       "max_height": null,
       "max_width": null,
       "min_height": null,
       "min_width": null,
       "object_fit": null,
       "object_position": null,
       "order": null,
       "overflow": null,
       "overflow_x": null,
       "overflow_y": null,
       "padding": null,
       "right": null,
       "top": null,
       "visibility": null,
       "width": null
      }
     },
     "b97cc9a8874140749799273f59d02c44": {
      "model_module": "@jupyter-widgets/controls",
      "model_module_version": "1.5.0",
      "model_name": "HTMLModel",
      "state": {
       "_dom_classes": [],
       "_model_module": "@jupyter-widgets/controls",
       "_model_module_version": "1.5.0",
       "_model_name": "HTMLModel",
       "_view_count": null,
       "_view_module": "@jupyter-widgets/controls",
       "_view_module_version": "1.5.0",
       "_view_name": "HTMLView",
       "description": "",
       "description_tooltip": null,
       "layout": "IPY_MODEL_f8cb4db9debe416794f0140a78a9e035",
       "placeholder": "​",
       "style": "IPY_MODEL_bf64f8860e2646eb8a9cb1443b557b5b",
       "value": " 446k/446k [00:00&lt;00:00, 598kB/s]"
      }
     },
     "bafd60bc45da4a95a22181da978a2dd4": {
      "model_module": "@jupyter-widgets/controls",
      "model_module_version": "1.5.0",
      "model_name": "FloatProgressModel",
      "state": {
       "_dom_classes": [],
       "_model_module": "@jupyter-widgets/controls",
       "_model_module_version": "1.5.0",
       "_model_name": "FloatProgressModel",
       "_view_count": null,
       "_view_module": "@jupyter-widgets/controls",
       "_view_module_version": "1.5.0",
       "_view_name": "ProgressView",
       "bar_style": "success",
       "description": "",
       "description_tooltip": null,
       "layout": "IPY_MODEL_6655404fe32349ebbb510811b17f4385",
       "max": 456318.0,
       "min": 0.0,
       "orientation": "horizontal",
       "style": "IPY_MODEL_b26667aec4da408e9fd8140c9544a012",
       "value": 456318.0
      }
     },
     "bf64f8860e2646eb8a9cb1443b557b5b": {
      "model_module": "@jupyter-widgets/controls",
      "model_module_version": "1.5.0",
      "model_name": "DescriptionStyleModel",
      "state": {
       "_model_module": "@jupyter-widgets/controls",
       "_model_module_version": "1.5.0",
       "_model_name": "DescriptionStyleModel",
       "_view_count": null,
       "_view_module": "@jupyter-widgets/base",
       "_view_module_version": "1.2.0",
       "_view_name": "StyleView",
       "description_width": ""
      }
     },
     "bfe88c7b36d04f4290568c568b112ec9": {
      "model_module": "@jupyter-widgets/base",
      "model_module_version": "1.2.0",
      "model_name": "LayoutModel",
      "state": {
       "_model_module": "@jupyter-widgets/base",
       "_model_module_version": "1.2.0",
       "_model_name": "LayoutModel",
       "_view_count": null,
       "_view_module": "@jupyter-widgets/base",
       "_view_module_version": "1.2.0",
       "_view_name": "LayoutView",
       "align_content": null,
       "align_items": null,
       "align_self": null,
       "border": null,
       "bottom": null,
       "display": null,
       "flex": null,
       "flex_flow": null,
       "grid_area": null,
       "grid_auto_columns": null,
       "grid_auto_flow": null,
       "grid_auto_rows": null,
       "grid_column": null,
       "grid_gap": null,
       "grid_row": null,
       "grid_template_areas": null,
       "grid_template_columns": null,
       "grid_template_rows": null,
       "height": null,
       "justify_content": null,
       "justify_items": null,
       "left": null,
       "margin": null,
       "max_height": null,
       "max_width": null,
       "min_height": null,
       "min_width": null,
       "object_fit": null,
       "object_position": null,
       "order": null,
       "overflow": null,
       "overflow_x": null,
       "overflow_y": null,
       "padding": null,
       "right": null,
       "top": null,
       "visibility": null,
       "width": null
      }
     },
     "c30a77ea61624989b75bd802bed08ba4": {
      "model_module": "@jupyter-widgets/base",
      "model_module_version": "1.2.0",
      "model_name": "LayoutModel",
      "state": {
       "_model_module": "@jupyter-widgets/base",
       "_model_module_version": "1.2.0",
       "_model_name": "LayoutModel",
       "_view_count": null,
       "_view_module": "@jupyter-widgets/base",
       "_view_module_version": "1.2.0",
       "_view_name": "LayoutView",
       "align_content": null,
       "align_items": null,
       "align_self": null,
       "border": null,
       "bottom": null,
       "display": null,
       "flex": null,
       "flex_flow": null,
       "grid_area": null,
       "grid_auto_columns": null,
       "grid_auto_flow": null,
       "grid_auto_rows": null,
       "grid_column": null,
       "grid_gap": null,
       "grid_row": null,
       "grid_template_areas": null,
       "grid_template_columns": null,
       "grid_template_rows": null,
       "height": null,
       "justify_content": null,
       "justify_items": null,
       "left": null,
       "margin": null,
       "max_height": null,
       "max_width": null,
       "min_height": null,
       "min_width": null,
       "object_fit": null,
       "object_position": null,
       "order": null,
       "overflow": null,
       "overflow_x": null,
       "overflow_y": null,
       "padding": null,
       "right": null,
       "top": null,
       "visibility": null,
       "width": null
      }
     },
     "c357fe1999ce471f9b38435699083cd7": {
      "model_module": "@jupyter-widgets/base",
      "model_module_version": "1.2.0",
      "model_name": "LayoutModel",
      "state": {
       "_model_module": "@jupyter-widgets/base",
       "_model_module_version": "1.2.0",
       "_model_name": "LayoutModel",
       "_view_count": null,
       "_view_module": "@jupyter-widgets/base",
       "_view_module_version": "1.2.0",
       "_view_name": "LayoutView",
       "align_content": null,
       "align_items": null,
       "align_self": null,
       "border": null,
       "bottom": null,
       "display": null,
       "flex": null,
       "flex_flow": null,
       "grid_area": null,
       "grid_auto_columns": null,
       "grid_auto_flow": null,
       "grid_auto_rows": null,
       "grid_column": null,
       "grid_gap": null,
       "grid_row": null,
       "grid_template_areas": null,
       "grid_template_columns": null,
       "grid_template_rows": null,
       "height": null,
       "justify_content": null,
       "justify_items": null,
       "left": null,
       "margin": null,
       "max_height": null,
       "max_width": null,
       "min_height": null,
       "min_width": null,
       "object_fit": null,
       "object_position": null,
       "order": null,
       "overflow": null,
       "overflow_x": null,
       "overflow_y": null,
       "padding": null,
       "right": null,
       "top": null,
       "visibility": null,
       "width": null
      }
     },
     "ccfd51f749674f13b4852355b61dfb7f": {
      "model_module": "@jupyter-widgets/controls",
      "model_module_version": "1.5.0",
      "model_name": "FloatProgressModel",
      "state": {
       "_dom_classes": [],
       "_model_module": "@jupyter-widgets/controls",
       "_model_module_version": "1.5.0",
       "_model_name": "FloatProgressModel",
       "_view_count": null,
       "_view_module": "@jupyter-widgets/controls",
       "_view_module_version": "1.5.0",
       "_view_name": "ProgressView",
       "bar_style": "success",
       "description": "",
       "description_tooltip": null,
       "layout": "IPY_MODEL_db3b0d4295af45d09d60b6d6bacf3842",
       "max": 1355256.0,
       "min": 0.0,
       "orientation": "horizontal",
       "style": "IPY_MODEL_6c3fb028e2174186982ec5a2fda0257a",
       "value": 1355256.0
      }
     },
     "db3b0d4295af45d09d60b6d6bacf3842": {
      "model_module": "@jupyter-widgets/base",
      "model_module_version": "1.2.0",
      "model_name": "LayoutModel",
      "state": {
       "_model_module": "@jupyter-widgets/base",
       "_model_module_version": "1.2.0",
       "_model_name": "LayoutModel",
       "_view_count": null,
       "_view_module": "@jupyter-widgets/base",
       "_view_module_version": "1.2.0",
       "_view_name": "LayoutView",
       "align_content": null,
       "align_items": null,
       "align_self": null,
       "border": null,
       "bottom": null,
       "display": null,
       "flex": null,
       "flex_flow": null,
       "grid_area": null,
       "grid_auto_columns": null,
       "grid_auto_flow": null,
       "grid_auto_rows": null,
       "grid_column": null,
       "grid_gap": null,
       "grid_row": null,
       "grid_template_areas": null,
       "grid_template_columns": null,
       "grid_template_rows": null,
       "height": null,
       "justify_content": null,
       "justify_items": null,
       "left": null,
       "margin": null,
       "max_height": null,
       "max_width": null,
       "min_height": null,
       "min_width": null,
       "object_fit": null,
       "object_position": null,
       "order": null,
       "overflow": null,
       "overflow_x": null,
       "overflow_y": null,
       "padding": null,
       "right": null,
       "top": null,
       "visibility": null,
       "width": null
      }
     },
     "e27b6547b18a4952bcf48d6d269dc185": {
      "model_module": "@jupyter-widgets/base",
      "model_module_version": "1.2.0",
      "model_name": "LayoutModel",
      "state": {
       "_model_module": "@jupyter-widgets/base",
       "_model_module_version": "1.2.0",
       "_model_name": "LayoutModel",
       "_view_count": null,
       "_view_module": "@jupyter-widgets/base",
       "_view_module_version": "1.2.0",
       "_view_name": "LayoutView",
       "align_content": null,
       "align_items": null,
       "align_self": null,
       "border": null,
       "bottom": null,
       "display": null,
       "flex": null,
       "flex_flow": null,
       "grid_area": null,
       "grid_auto_columns": null,
       "grid_auto_flow": null,
       "grid_auto_rows": null,
       "grid_column": null,
       "grid_gap": null,
       "grid_row": null,
       "grid_template_areas": null,
       "grid_template_columns": null,
       "grid_template_rows": null,
       "height": null,
       "justify_content": null,
       "justify_items": null,
       "left": null,
       "margin": null,
       "max_height": null,
       "max_width": null,
       "min_height": null,
       "min_width": null,
       "object_fit": null,
       "object_position": null,
       "order": null,
       "overflow": null,
       "overflow_x": null,
       "overflow_y": null,
       "padding": null,
       "right": null,
       "top": null,
       "visibility": null,
       "width": null
      }
     },
     "ee7478d8377b46278a849422f9032ee8": {
      "model_module": "@jupyter-widgets/base",
      "model_module_version": "1.2.0",
      "model_name": "LayoutModel",
      "state": {
       "_model_module": "@jupyter-widgets/base",
       "_model_module_version": "1.2.0",
       "_model_name": "LayoutModel",
       "_view_count": null,
       "_view_module": "@jupyter-widgets/base",
       "_view_module_version": "1.2.0",
       "_view_name": "LayoutView",
       "align_content": null,
       "align_items": null,
       "align_self": null,
       "border": null,
       "bottom": null,
       "display": null,
       "flex": null,
       "flex_flow": null,
       "grid_area": null,
       "grid_auto_columns": null,
       "grid_auto_flow": null,
       "grid_auto_rows": null,
       "grid_column": null,
       "grid_gap": null,
       "grid_row": null,
       "grid_template_areas": null,
       "grid_template_columns": null,
       "grid_template_rows": null,
       "height": null,
       "justify_content": null,
       "justify_items": null,
       "left": null,
       "margin": null,
       "max_height": null,
       "max_width": null,
       "min_height": null,
       "min_width": null,
       "object_fit": null,
       "object_position": null,
       "order": null,
       "overflow": null,
       "overflow_x": null,
       "overflow_y": null,
       "padding": null,
       "right": null,
       "top": null,
       "visibility": null,
       "width": null
      }
     },
     "f27474c1de614a4295162279cbcb8bb5": {
      "model_module": "@jupyter-widgets/base",
      "model_module_version": "1.2.0",
      "model_name": "LayoutModel",
      "state": {
       "_model_module": "@jupyter-widgets/base",
       "_model_module_version": "1.2.0",
       "_model_name": "LayoutModel",
       "_view_count": null,
       "_view_module": "@jupyter-widgets/base",
       "_view_module_version": "1.2.0",
       "_view_name": "LayoutView",
       "align_content": null,
       "align_items": null,
       "align_self": null,
       "border": null,
       "bottom": null,
       "display": null,
       "flex": null,
       "flex_flow": null,
       "grid_area": null,
       "grid_auto_columns": null,
       "grid_auto_flow": null,
       "grid_auto_rows": null,
       "grid_column": null,
       "grid_gap": null,
       "grid_row": null,
       "grid_template_areas": null,
       "grid_template_columns": null,
       "grid_template_rows": null,
       "height": null,
       "justify_content": null,
       "justify_items": null,
       "left": null,
       "margin": null,
       "max_height": null,
       "max_width": null,
       "min_height": null,
       "min_width": null,
       "object_fit": null,
       "object_position": null,
       "order": null,
       "overflow": null,
       "overflow_x": null,
       "overflow_y": null,
       "padding": null,
       "right": null,
       "top": null,
       "visibility": null,
       "width": null
      }
     },
     "f8cb4db9debe416794f0140a78a9e035": {
      "model_module": "@jupyter-widgets/base",
      "model_module_version": "1.2.0",
      "model_name": "LayoutModel",
      "state": {
       "_model_module": "@jupyter-widgets/base",
       "_model_module_version": "1.2.0",
       "_model_name": "LayoutModel",
       "_view_count": null,
       "_view_module": "@jupyter-widgets/base",
       "_view_module_version": "1.2.0",
       "_view_name": "LayoutView",
       "align_content": null,
       "align_items": null,
       "align_self": null,
       "border": null,
       "bottom": null,
       "display": null,
       "flex": null,
       "flex_flow": null,
       "grid_area": null,
       "grid_auto_columns": null,
       "grid_auto_flow": null,
       "grid_auto_rows": null,
       "grid_column": null,
       "grid_gap": null,
       "grid_row": null,
       "grid_template_areas": null,
       "grid_template_columns": null,
       "grid_template_rows": null,
       "height": null,
       "justify_content": null,
       "justify_items": null,
       "left": null,
       "margin": null,
       "max_height": null,
       "max_width": null,
       "min_height": null,
       "min_width": null,
       "object_fit": null,
       "object_position": null,
       "order": null,
       "overflow": null,
       "overflow_x": null,
       "overflow_y": null,
       "padding": null,
       "right": null,
       "top": null,
       "visibility": null,
       "width": null
      }
     },
     "fb24ef4fade14003a36341567bee5fec": {
      "model_module": "@jupyter-widgets/base",
      "model_module_version": "1.2.0",
      "model_name": "LayoutModel",
      "state": {
       "_model_module": "@jupyter-widgets/base",
       "_model_module_version": "1.2.0",
       "_model_name": "LayoutModel",
       "_view_count": null,
       "_view_module": "@jupyter-widgets/base",
       "_view_module_version": "1.2.0",
       "_view_name": "LayoutView",
       "align_content": null,
       "align_items": null,
       "align_self": null,
       "border": null,
       "bottom": null,
       "display": null,
       "flex": null,
       "flex_flow": null,
       "grid_area": null,
       "grid_auto_columns": null,
       "grid_auto_flow": null,
       "grid_auto_rows": null,
       "grid_column": null,
       "grid_gap": null,
       "grid_row": null,
       "grid_template_areas": null,
       "grid_template_columns": null,
       "grid_template_rows": null,
       "height": null,
       "justify_content": null,
       "justify_items": null,
       "left": null,
       "margin": null,
       "max_height": null,
       "max_width": null,
       "min_height": null,
       "min_width": null,
       "object_fit": null,
       "object_position": null,
       "order": null,
       "overflow": null,
       "overflow_x": null,
       "overflow_y": null,
       "padding": null,
       "right": null,
       "top": null,
       "visibility": null,
       "width": null
      }
     },
     "ffb610b4e54f449b82987ec96d4911dc": {
      "model_module": "@jupyter-widgets/controls",
      "model_module_version": "1.5.0",
      "model_name": "ProgressStyleModel",
      "state": {
       "_model_module": "@jupyter-widgets/controls",
       "_model_module_version": "1.5.0",
       "_model_name": "ProgressStyleModel",
       "_view_count": null,
       "_view_module": "@jupyter-widgets/base",
       "_view_module_version": "1.2.0",
       "_view_name": "StyleView",
       "bar_color": null,
       "description_width": ""
      }
     }
    },
    "version_major": 2,
    "version_minor": 0
   }
  }
 },
 "nbformat": 4,
 "nbformat_minor": 5
}
